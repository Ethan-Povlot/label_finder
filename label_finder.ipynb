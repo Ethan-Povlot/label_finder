{
 "cells": [
  {
   "cell_type": "code",
   "execution_count": 3,
   "metadata": {},
   "outputs": [],
   "source": [
    "import cv2\n",
    "import numpy as np\n",
    "from matplotlib import pyplot as plt\n",
    "import networkx as nx\n",
    "import math\n",
    "\n",
    "def get_label_quadrant(image_path):\n",
    "    image = cv2.imread(image_path)\n",
    "    image_rgb = cv2.cvtColor(image, cv2.COLOR_BGR2RGB)\n",
    "    plt.imshow(image_rgb)\n",
    "    plt.axis('off')\n",
    "    plt.show()\n",
    "\n",
    "\n",
    "    image = cv2.imread(image_path)\n",
    "    gray = cv2.cvtColor(image, cv2.COLOR_BGR2GRAY)\n",
    "\n",
    "    edges = cv2.Canny(gray, 1, 20)\n",
    "\n",
    "    lines = cv2.HoughLinesP(edges, rho=1, theta=np.pi / 180, threshold=50, minLineLength=100, maxLineGap=20)\n",
    "    lines = [(line[0]) for line in lines]\n",
    "    for line in lines:\n",
    "        x1, y1, x2, y2 = line\n",
    "        cv2.line(image, (x1, y1), (x2, y2), (np.random.randint(255), np.random.randint(255), np.random.randint(255)), 2)\n",
    "\n",
    "\n",
    "    def get_slope(line):\n",
    "        if line[2] == line[0]:\n",
    "            # If the x-coordinates are equal, avoid division by zero\n",
    "            return np.append(line, [0, np.sqrt((line[2] - line[0]) ** 2) + (line[3] - line[1]) ** 2]).astype(int)\n",
    "        else:\n",
    "            return np.append(line, [abs((line[3] - line[1]) / (line[2] - line[0])), np.sqrt((line[2] - line[0]) ** 2) + (line[3] - line[1]) ** 2]).astype(int)\n",
    "\n",
    "\n",
    "    angle_len_lines = []\n",
    "    for line in lines:\n",
    "        angle_len_lines.append(get_slope(line))\n",
    "    angle_len_lines = np.array(angle_len_lines).astype(int)\n",
    "    angle_len_lines = angle_len_lines[angle_len_lines[:, 4].argsort()]\n",
    "\n",
    "\n",
    "\n",
    "    def distance_between_points(x1, y1, x2, y2):\n",
    "        return math.sqrt((x2 - x1) ** 2 + (y2 - y1) ** 2)\n",
    "\n",
    "    def combine_lines(lines):\n",
    "        grouped_lines = {}\n",
    "\n",
    "        for line in lines:\n",
    "            x1, y1, x2, y2, slope, length = line\n",
    "\n",
    "            center_x = (x1 + x2) / 2\n",
    "            center_y = (y1 + y2) / 2\n",
    "\n",
    "            slope_key = round(slope, 2)\n",
    "\n",
    "            if slope_key in grouped_lines:\n",
    "                merged = False\n",
    "                for existing_line in grouped_lines[slope_key]:\n",
    "                    existing_center_x = (existing_line[0] + existing_line[2]) / 2\n",
    "                    existing_center_y = (existing_line[1] + existing_line[3]) / 2\n",
    "\n",
    "                    dist = distance_between_points(center_x, center_y, existing_center_x, existing_center_y)\n",
    "\n",
    "                    if dist <= 25:#controls how close the lines have to be to count as one\n",
    "                        if length > existing_line[5] or (abs(slope) < abs(existing_line[4]) and slope != 0):\n",
    "                            existing_line[:] = line\n",
    "                        merged = True\n",
    "                        break\n",
    "                if not merged:\n",
    "                    grouped_lines[slope_key].append(line)\n",
    "            else:\n",
    "                grouped_lines[slope_key] = [line]\n",
    "\n",
    "        combined_lines = [line for group in grouped_lines.values() for line in group]\n",
    "\n",
    "        return combined_lines\n",
    "\n",
    "    image = cv2.imread(image_path)\n",
    "    gray = cv2.cvtColor(image, cv2.COLOR_BGR2GRAY)\n",
    "\n",
    "    for line in combine_lines(angle_len_lines):\n",
    "        x1, y1, x2, y2, _, _ = line\n",
    "        cv2.line(image, (x1, y1), (x2, y2), (np.random.randint(255), np.random.randint(255), np.random.randint(255)), 2)\n",
    "\n",
    "    image_rgb = cv2.cvtColor(image, cv2.COLOR_BGR2RGB)\n",
    "\n",
    "\n",
    "    lines_list= np.array(combine_lines(angle_len_lines))[:,:4]\n",
    "    lines_list = np.column_stack((lines_list, list(range(len(lines_list)))))\n",
    "\n",
    "    def are_close(p1, p2, threshold=25):\n",
    "        return math.sqrt((p1[0] - p2[0])**2 + (p1[1] - p2[1])**2) <= threshold\n",
    "\n",
    "\n",
    "    G = nx.Graph()\n",
    "\n",
    "    for line in lines_list:\n",
    "        for line_2 in lines_list:\n",
    "            if str(line_2) == str(line):\n",
    "                pass\n",
    "            p1=(line[0], line[1])\n",
    "            p2=(line[2], line[3])\n",
    "            p3=(line_2[0], line_2[1])\n",
    "            p4=(line_2[2], line_2[3])\n",
    "            if are_close(p1, p3) or are_close(p1,p4) or are_close(p2, p3) or are_close(p2, p4):\n",
    "                G.add_edge(line[4], line_2[4])\n",
    "    cycles = nx.simple_cycles(G)\n",
    "    cycles_of_length_4 = [cycle for cycle in cycles if len(cycle) == 4]\n",
    "\n",
    "    box_centers = []\n",
    "    box_edges=[]\n",
    "    for cycle in cycles_of_length_4:# this needs to be fixed it is not picking\n",
    "        x_point= np.mean([np.mean([lines_list[i][0],lines_list[i][2]])  for i in cycle])\n",
    "        y_point= np.mean([np.mean([lines_list[i][1],lines_list[i][3]])  for i in cycle])\n",
    "        x_point_top= np.max([np.max([lines_list[i][0],lines_list[i][2]])  for i in cycle])\n",
    "        y_point_top= np.max([np.max([lines_list[i][1],lines_list[i][3]])  for i in cycle])\n",
    "        x_point_min= np.min([np.min([lines_list[i][0],lines_list[i][2]])  for i in cycle])\n",
    "        y_point_min= np.min([np.min([lines_list[i][1],lines_list[i][3]])  for i in cycle])\n",
    "        box_centers.append([x_point, y_point])\n",
    "        box_edges.append([[x_point_min, y_point_top], [x_point_top, y_point_min]])\n",
    "\n",
    "\n",
    "\n",
    "    image_colors = []\n",
    "    image = cv2.imread(image_path)\n",
    "\n",
    "    for point in box_centers:\n",
    "        image_colors.append([image[int(point[1]), int(point[0])][2], image[int(point[1]), int(point[0])][1], image[int(point[1]), int(point[0])][0]])\n",
    "    image_colors# see the rgb color of the center of each box, can be used in the future for referencing if the code is white to a brown box\n",
    "\n",
    "    def is_point_inside_box(point, box):\n",
    "        (x, y), ((x1, y1), (x2, y2)) = point, box\n",
    "        min_x = min(x1, x2)\n",
    "        max_x = max(x1, x2)\n",
    "        min_y = min(y1, y2)\n",
    "        max_y = max(y1, y2)\n",
    "        \n",
    "        return min_x <= x <= max_x and min_y <= y <= max_y\n",
    "\n",
    "    insides = []\n",
    "    for i in range(len(cycles_of_length_4)):\n",
    "        for j in range(len(cycles_of_length_4)):\n",
    "            if is_point_inside_box(box_centers[j], box_edges[i]) and i!=j:\n",
    "                insides.append([i,j])\n",
    "\n",
    "    quadrant = np.where(np.multiply(np.array(box_centers[insides[0][1]])-np.array(box_centers[insides[0][0]]),np.array([1,-1]))> 0, 1, -1)\n",
    "\n",
    "    if quadrant[0] == 1:\n",
    "        if quadrant[1] == 1:\n",
    "            print('label on top right')\n",
    "        else:\n",
    "            print('label on bottom right')\n",
    "    else:\n",
    "        if quadrant[1] == 1:\n",
    "            print('label on top left')\n",
    "        else:\n",
    "            print('label on bottom left')\n"
   ]
  },
  {
   "cell_type": "code",
   "execution_count": 28,
   "metadata": {},
   "outputs": [
    {
     "data": {
      "image/png": "[encoded data removed]",
      "text/plain": [
       "<Figure size 640x480 with 1 Axes>"
      ]
     },
     "metadata": {},
     "output_type": "display_data"
    },
    {
     "name": "stdout",
     "output_type": "stream",
     "text": [
      "label on top right\n"
     ]
    }
   ],
   "source": [
    "image_path = r'test_box4.jpg'\n",
    "get_label_quadrant(image_path)"
   ]
  },
  {
   "cell_type": "code",
   "execution_count": 5,
   "metadata": {},
   "outputs": [
    {
     "data": {
      "image/png": "[encoded data removed]",
      "text/plain": [
       "<Figure size 640x480 with 1 Axes>"
      ]
     },
     "metadata": {},
     "output_type": "display_data"
    }
   ],
   "source": [
    "box_number = '2'\n",
    "image = cv2.imread(r'test_box'+box_number+'.jpg')\n",
    "\n",
    "image_rgb = cv2.cvtColor(image, cv2.COLOR_BGR2RGB)\n",
    "plt.imshow(image_rgb)\n",
    "plt.axis('off')\n",
    "plt.show()"
   ]
  },
  {
   "cell_type": "code",
   "execution_count": 6,
   "metadata": {},
   "outputs": [],
   "source": [
    "image = cv2.imread(r'test_box'+box_number+'.jpg')\n",
    "gray = cv2.cvtColor(image, cv2.COLOR_BGR2GRAY)\n",
    "\n",
    "edges = cv2.Canny(gray, 1, 20)\n",
    "\n",
    "lines = cv2.HoughLinesP(edges, rho=1, theta=np.pi / 180, threshold=50, minLineLength=100, maxLineGap=20)\n",
    "lines = [(line[0]) for line in lines]\n",
    "for line in lines:\n",
    "    x1, y1, x2, y2 = line\n",
    "    cv2.line(image, (x1, y1), (x2, y2), (np.random.randint(255), np.random.randint(255), np.random.randint(255)), 2)\n"
   ]
  },
  {
   "cell_type": "code",
   "execution_count": 7,
   "metadata": {},
   "outputs": [],
   "source": [
    "def get_slope(line):\n",
    "    return np.append(line, [abs((line[3]-line[1])/(line[2]-line[0])), np.sqrt((line[2]-line[0])**2)+(line[3]-line[1])**2]).astype(int)"
   ]
  },
  {
   "cell_type": "code",
   "execution_count": 8,
   "metadata": {},
   "outputs": [
    {
     "name": "stderr",
     "output_type": "stream",
     "text": [
      "C:\\Users\\ethan\\AppData\\Local\\Temp\\ipykernel_9572\\1923115556.py:2: RuntimeWarning: divide by zero encountered in scalar divide\n",
      "  return np.append(line, [abs((line[3]-line[1])/(line[2]-line[0])), np.sqrt((line[2]-line[0])**2)+(line[3]-line[1])**2]).astype(int)\n",
      "C:\\Users\\ethan\\AppData\\Local\\Temp\\ipykernel_9572\\1923115556.py:2: RuntimeWarning: invalid value encountered in cast\n",
      "  return np.append(line, [abs((line[3]-line[1])/(line[2]-line[0])), np.sqrt((line[2]-line[0])**2)+(line[3]-line[1])**2]).astype(int)\n"
     ]
    }
   ],
   "source": [
    "angle_len_lines = []\n",
    "for line in lines:\n",
    "    angle_len_lines.append(get_slope(line))\n",
    "angle_len_lines = np.array(angle_len_lines).astype(int)\n",
    "angle_len_lines = angle_len_lines[angle_len_lines[:, 4].argsort()]\n"
   ]
  },
  {
   "cell_type": "code",
   "execution_count": 9,
   "metadata": {},
   "outputs": [],
   "source": [
    "def distance_between_points(x1, y1, x2, y2):\n",
    "    return math.sqrt((x2 - x1) ** 2 + (y2 - y1) ** 2)\n",
    "\n",
    "def combine_lines(lines):\n",
    "    grouped_lines = {}\n",
    "\n",
    "    for line in lines:\n",
    "        x1, y1, x2, y2, slope, length = line\n",
    "\n",
    "        center_x = (x1 + x2) / 2\n",
    "        center_y = (y1 + y2) / 2\n",
    "\n",
    "        slope_key = round(slope, 2)\n",
    "\n",
    "        if slope_key in grouped_lines:\n",
    "            merged = False\n",
    "            for existing_line in grouped_lines[slope_key]:\n",
    "                existing_center_x = (existing_line[0] + existing_line[2]) / 2\n",
    "                existing_center_y = (existing_line[1] + existing_line[3]) / 2\n",
    "\n",
    "                dist = distance_between_points(center_x, center_y, existing_center_x, existing_center_y)\n",
    "\n",
    "                if dist <= 25:#controls how close the lines have to be to count as one\n",
    "                    if length > existing_line[5] or (abs(slope) < abs(existing_line[4]) and slope != 0):\n",
    "                        existing_line[:] = line\n",
    "                    merged = True\n",
    "                    break\n",
    "            if not merged:\n",
    "                grouped_lines[slope_key].append(line)\n",
    "        else:\n",
    "            grouped_lines[slope_key] = [line]\n",
    "\n",
    "    combined_lines = [line for group in grouped_lines.values() for line in group]\n",
    "\n",
    "    return combined_lines"
   ]
  },
  {
   "cell_type": "code",
   "execution_count": 10,
   "metadata": {},
   "outputs": [
    {
     "name": "stdout",
     "output_type": "stream",
     "text": [
      "16\n"
     ]
    },
    {
     "name": "stderr",
     "output_type": "stream",
     "text": [
      "C:\\Users\\ethan\\AppData\\Local\\Temp\\ipykernel_9572\\2368472232.py:24: RuntimeWarning: overflow encountered in scalar absolute\n",
      "  if length > existing_line[5] or (abs(slope) < abs(existing_line[4]) and slope != 0):\n"
     ]
    },
    {
     "data": {
      "image/png": "[encoded data removed]",
      "text/plain": [
       "<Figure size 640x480 with 1 Axes>"
      ]
     },
     "metadata": {},
     "output_type": "display_data"
    }
   ],
   "source": [
    "print(len(combine_lines(angle_len_lines)))\n",
    "image = cv2.imread(r'test_box'+box_number+'.jpg')\n",
    "gray = cv2.cvtColor(image, cv2.COLOR_BGR2GRAY)\n",
    "\n",
    "for line in combine_lines(angle_len_lines):\n",
    "    x1, y1, x2, y2, _, _ = line\n",
    "    cv2.line(image, (x1, y1), (x2, y2), (np.random.randint(255), np.random.randint(255), np.random.randint(255)), 2)\n",
    "\n",
    "image_rgb = cv2.cvtColor(image, cv2.COLOR_BGR2RGB)\n",
    "plt.imshow(image_rgb)\n",
    "plt.axis('off')\n",
    "plt.show()"
   ]
  },
  {
   "cell_type": "code",
   "execution_count": 11,
   "metadata": {},
   "outputs": [
    {
     "name": "stdout",
     "output_type": "stream",
     "text": [
      "[[  29 1228   29   69    0]\n",
      " [ 454 1238  454   71    1]\n",
      " [ 647 1409  647    3    2]\n",
      " [ 584 1347  584  200    3]\n",
      " [ 513 1298  513  130    4]\n",
      " [ 283 1153  283 1016    5]\n",
      " [  98 1154   98 1014    6]\n",
      " [  99 1158  280 1158    7]\n",
      " [ 102 1009  277 1009    8]\n",
      " [  30 1228  461 1228    9]\n",
      " [ 170 1369  590 1369   10]\n",
      " [   0    2  644    2   11]\n",
      " [  31   68  451   68   12]\n",
      " [ 455 1223  580 1348   13]\n",
      " [ 451   69  592  210   14]\n",
      " [  30 1229  169 1368   15]]\n"
     ]
    },
    {
     "name": "stderr",
     "output_type": "stream",
     "text": [
      "C:\\Users\\ethan\\AppData\\Local\\Temp\\ipykernel_9572\\2368472232.py:24: RuntimeWarning: overflow encountered in scalar absolute\n",
      "  if length > existing_line[5] or (abs(slope) < abs(existing_line[4]) and slope != 0):\n"
     ]
    }
   ],
   "source": [
    "lines_list= np.array(combine_lines(angle_len_lines))[:,:4]\n",
    "lines_list = np.column_stack((lines_list, list(range(len(lines_list)))))\n",
    "print(lines_list)"
   ]
  },
  {
   "cell_type": "code",
   "execution_count": 12,
   "metadata": {},
   "outputs": [],
   "source": [
    "def are_close(p1, p2, threshold=25):\n",
    "    return math.sqrt((p1[0] - p2[0])**2 + (p1[1] - p2[1])**2) <= threshold\n"
   ]
  },
  {
   "cell_type": "code",
   "execution_count": 13,
   "metadata": {},
   "outputs": [],
   "source": [
    "G = nx.Graph()\n",
    "\n",
    "for line in lines_list:\n",
    "    for line_2 in lines_list:\n",
    "        if str(line_2) == str(line):\n",
    "            pass\n",
    "        p1=(line[0], line[1])\n",
    "        p2=(line[2], line[3])\n",
    "        p3=(line_2[0], line_2[1])\n",
    "        p4=(line_2[2], line_2[3])\n",
    "        if are_close(p1, p3) or are_close(p1,p4) or are_close(p2, p3) or are_close(p2, p4):\n",
    "            G.add_edge(line[4], line_2[4])\n",
    "cycles = nx.simple_cycles(G)\n",
    "cycles_of_length_4 = [cycle for cycle in cycles if len(cycle) == 4]"
   ]
  },
  {
   "cell_type": "code",
   "execution_count": 14,
   "metadata": {},
   "outputs": [
    {
     "data": {
      "image/png": "[encoded data removed]",
      "text/plain": [
       "<Figure size 640x480 with 1 Axes>"
      ]
     },
     "metadata": {},
     "output_type": "display_data"
    }
   ],
   "source": [
    "nx.draw(G, with_labels=True)\n",
    "plt.show()\n"
   ]
  },
  {
   "cell_type": "code",
   "execution_count": 15,
   "metadata": {},
   "outputs": [
    {
     "data": {
      "image/png": "[encoded data removed]",
      "text/plain": [
       "<Figure size 640x480 with 1 Axes>"
      ]
     },
     "metadata": {},
     "output_type": "display_data"
    }
   ],
   "source": [
    "image = cv2.imread(r'test_box'+box_number+'.jpg')\n",
    "gray = cv2.cvtColor(image, cv2.COLOR_BGR2GRAY)\n",
    "\n",
    "for line in lines_list:\n",
    "    if line[4] in  sum(cycles_of_length_4, []):#see all boxes present\n",
    "        x1, y1, x2, y2, _ = line\n",
    "        cv2.line(image, (x1, y1), (x2, y2), (255, 0, 0), 5)\n",
    "\n",
    "image_rgb = cv2.cvtColor(image, cv2.COLOR_BGR2RGB)\n",
    "plt.imshow(image_rgb)\n",
    "plt.axis('off')\n",
    "plt.show()"
   ]
  },
  {
   "cell_type": "code",
   "execution_count": 16,
   "metadata": {},
   "outputs": [],
   "source": [
    "box_centers = []\n",
    "box_edges=[]\n",
    "for cycle in cycles_of_length_4:# this needs to be fixed it is not picking\n",
    "    x_point= np.mean([np.mean([lines_list[i][0],lines_list[i][2]])  for i in cycle])\n",
    "    y_point= np.mean([np.mean([lines_list[i][1],lines_list[i][3]])  for i in cycle])\n",
    "    x_point_top= np.max([np.max([lines_list[i][0],lines_list[i][2]])  for i in cycle])\n",
    "    y_point_top= np.max([np.max([lines_list[i][1],lines_list[i][3]])  for i in cycle])\n",
    "    x_point_min= np.min([np.min([lines_list[i][0],lines_list[i][2]])  for i in cycle])\n",
    "    y_point_min= np.min([np.min([lines_list[i][1],lines_list[i][3]])  for i in cycle])\n",
    "    box_centers.append([x_point, y_point])\n",
    "    box_edges.append([[x_point_min, y_point_top], [x_point_top, y_point_min]])"
   ]
  },
  {
   "cell_type": "code",
   "execution_count": 17,
   "metadata": {},
   "outputs": [
    {
     "data": {
      "text/plain": [
       "[[8, 5, 7, 6], [0, 9, 1, 12], [9, 13, 10, 15], [1, 13, 3, 14]]"
      ]
     },
     "execution_count": 17,
     "metadata": {},
     "output_type": "execute_result"
    }
   ],
   "source": [
    "cycles_of_length_4"
   ]
  },
  {
   "cell_type": "code",
   "execution_count": 18,
   "metadata": {},
   "outputs": [
    {
     "name": "stdout",
     "output_type": "stream",
     "text": [
      "190.0 1083.875\n",
      "242.375 649.75\n",
      "310.625 1295.25\n",
      "519.25 713.25\n"
     ]
    },
    {
     "data": {
      "image/png": "[encoded data removed]",
      "text/plain": [
       "<Figure size 640x480 with 1 Axes>"
      ]
     },
     "metadata": {},
     "output_type": "display_data"
    }
   ],
   "source": [
    "\n",
    "image = cv2.imread(r'test_box'+box_number+'.jpg')\n",
    "gray = cv2.cvtColor(image, cv2.COLOR_BGR2GRAY)\n",
    "for point in box_centers:\n",
    "    x, y = point\n",
    "    print(x,y)\n",
    "    cv2.circle(image, (int(x), int(y)), radius=20, color=(0, 0, 255), thickness=-1)\n",
    "for line in lines_list:\n",
    "    if line[4] in  sum(cycles_of_length_4, []):#see all boxes present\n",
    "        x1, y1, x2, y2, _ = line\n",
    "        cv2.line(image, (x1, y1), (x2, y2), (255, 0, 0), 5)\n",
    "\n",
    "image_rgb = cv2.cvtColor(image, cv2.COLOR_BGR2RGB)\n",
    "plt.imshow(image_rgb)\n",
    "#plt.axis('off')\n",
    "plt.show()"
   ]
  },
  {
   "cell_type": "code",
   "execution_count": null,
   "metadata": {},
   "outputs": [],
   "source": []
  },
  {
   "cell_type": "code",
   "execution_count": 19,
   "metadata": {},
   "outputs": [
    {
     "data": {
      "image/png": "[encoded data removed]",
      "text/plain": [
       "<Figure size 640x480 with 1 Axes>"
      ]
     },
     "metadata": {},
     "output_type": "display_data"
    }
   ],
   "source": [
    "image = cv2.imread(r'test_box'+box_number+'.jpg')\n",
    "gray = cv2.cvtColor(image, cv2.COLOR_BGR2GRAY)\n",
    "i=3\n",
    "for point in box_edges[i]:\n",
    "    x, y = point\n",
    "    cv2.circle(image, (int(x), int(y)), radius=20, color=(0, 0, 255), thickness=-1)\n",
    "for line in lines_list:\n",
    "    if line[4] in  cycles_of_length_4[i]:#see all boxes present\n",
    "        x1, y1, x2, y2, _ = line\n",
    "        cv2.line(image, (x1, y1), (x2, y2), (255, 0, 0), 5)\n",
    "image_rgb = cv2.cvtColor(image, cv2.COLOR_BGR2RGB)\n",
    "plt.imshow(image_rgb)\n",
    "plt.axis('off')\n",
    "plt.show()"
   ]
  },
  {
   "cell_type": "code",
   "execution_count": 20,
   "metadata": {},
   "outputs": [
    {
     "data": {
      "text/plain": [
       "[[255, 255, 255], [202, 198, 163], [167, 164, 133], [205, 200, 168]]"
      ]
     },
     "execution_count": 20,
     "metadata": {},
     "output_type": "execute_result"
    }
   ],
   "source": [
    "image_colors = []\n",
    "image = cv2.imread(r'test_box'+box_number+'.jpg')\n",
    "\n",
    "for point in box_centers:\n",
    "    image_colors.append([image[int(point[1]), int(point[0])][2], image[int(point[1]), int(point[0])][1], image[int(point[1]), int(point[0])][0]])\n",
    "image_colors# see the rgb color of the center of each box, can be used in the future for referencing if the code is white to a brown box"
   ]
  },
  {
   "cell_type": "code",
   "execution_count": 21,
   "metadata": {},
   "outputs": [
    {
     "data": {
      "text/plain": [
       "[[1, 0]]"
      ]
     },
     "execution_count": 21,
     "metadata": {},
     "output_type": "execute_result"
    }
   ],
   "source": [
    "def is_point_inside_box(point, box):\n",
    "    (x, y), ((x1, y1), (x2, y2)) = point, box\n",
    "    min_x = min(x1, x2)\n",
    "    max_x = max(x1, x2)\n",
    "    min_y = min(y1, y2)\n",
    "    max_y = max(y1, y2)\n",
    "    \n",
    "    return min_x <= x <= max_x and min_y <= y <= max_y\n",
    "\n",
    "insides = []\n",
    "for i in range(len(cycles_of_length_4)):\n",
    "    for j in range(len(cycles_of_length_4)):\n",
    "        if is_point_inside_box(box_centers[j], box_edges[i]) and i!=j:\n",
    "            insides.append([i,j])\n",
    "        \n",
    "insides"
   ]
  },
  {
   "cell_type": "markdown",
   "metadata": {},
   "source": [
    "second value is box inside of the box, in this case 3"
   ]
  },
  {
   "cell_type": "code",
   "execution_count": 22,
   "metadata": {},
   "outputs": [
    {
     "data": {
      "text/plain": [
       "[[98, 1158], [283, 1009]]"
      ]
     },
     "execution_count": 22,
     "metadata": {},
     "output_type": "execute_result"
    }
   ],
   "source": [
    "box_edges[0]"
   ]
  },
  {
   "cell_type": "code",
   "execution_count": 23,
   "metadata": {},
   "outputs": [
    {
     "data": {
      "text/plain": [
       "[519.25, 713.25]"
      ]
     },
     "execution_count": 23,
     "metadata": {},
     "output_type": "execute_result"
    }
   ],
   "source": [
    "box_centers[3]"
   ]
  },
  {
   "cell_type": "code",
   "execution_count": 24,
   "metadata": {},
   "outputs": [],
   "source": [
    "quadrant = np.where(np.multiply(np.array(box_centers[insides[0][1]])-np.array(box_centers[insides[0][0]]),np.array([1,-1]))> 0, 1, -1)"
   ]
  },
  {
   "cell_type": "code",
   "execution_count": 25,
   "metadata": {},
   "outputs": [
    {
     "name": "stdout",
     "output_type": "stream",
     "text": [
      "label on bottom left\n"
     ]
    }
   ],
   "source": [
    "if quadrant[0] == 1:\n",
    "    if quadrant[1] == 1:\n",
    "        print('label on top right')\n",
    "    else:\n",
    "        print('label on bottom right')\n",
    "else:\n",
    "    if quadrant[1] == 1:\n",
    "        print('label on top left')\n",
    "    else:\n",
    "        print('label on bottom left')"
   ]
  },
  {
   "cell_type": "code",
   "execution_count": null,
   "metadata": {},
   "outputs": [],
   "source": []
  }
 ],
 "metadata": {
  "kernelspec": {
   "display_name": "cv_proj4",
   "language": "python",
   "name": "python3"
  },
  "language_info": {
   "codemirror_mode": {
    "name": "ipython",
    "version": 3
   },
   "file_extension": ".py",
   "mimetype": "text/x-python",
   "name": "python",
   "nbconvert_exporter": "python",
   "pygments_lexer": "ipython3",
   "version": "3.10.14"
  }
 },
 "nbformat": 4,
 "nbformat_minor": 2
}
